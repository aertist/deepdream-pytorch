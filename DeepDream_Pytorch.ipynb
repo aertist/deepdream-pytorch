{
  "nbformat": 4,
  "nbformat_minor": 0,
  "metadata": {
    "colab": {
      "name": "DeepDream-Pytorch.ipynb",
      "provenance": [],
      "collapsed_sections": [],
      "include_colab_link": true
    },
    "kernelspec": {
      "name": "python3",
      "display_name": "Python 3"
    },
    "accelerator": "GPU"
  },
  "cells": [
    {
      "cell_type": "markdown",
      "metadata": {
        "id": "view-in-github",
        "colab_type": "text"
      },
      "source": [
        "<a href=\"https://colab.research.google.com/github/aertist/deepdream-pytorch/blob/main/DeepDream_Pytorch.ipynb\" target=\"_parent\"><img src=\"https://colab.research.google.com/assets/colab-badge.svg\" alt=\"Open In Colab\"/></a>"
      ]
    },
    {
      "cell_type": "markdown",
      "metadata": {
        "id": "3R6C0Rls2eDZ"
      },
      "source": [
        "# Deepdream PyTorch Implementetion BY **AERTIST**"
      ]
    },
    {
      "cell_type": "markdown",
      "metadata": {
        "id": "x3Bh-okA2SiZ"
      },
      "source": [
        "\n",
        "\n",
        "---\n"
      ]
    },
    {
      "cell_type": "markdown",
      "metadata": {
        "id": "wJrfqMe92sUk"
      },
      "source": [
        "# Clone the repo"
      ]
    },
    {
      "cell_type": "code",
      "metadata": {
        "id": "q9NVmxvuS_Lm"
      },
      "source": [
        "!git clone https://github.com/aertist/deepdream-pytorch.git"
      ],
      "execution_count": null,
      "outputs": []
    },
    {
      "cell_type": "code",
      "metadata": {
        "id": "O5diXjPBk9wg"
      },
      "source": [
        "cd /content/deepdream-pytorch"
      ],
      "execution_count": null,
      "outputs": []
    },
    {
      "cell_type": "markdown",
      "metadata": {
        "id": "Nq4XF7y-6nsp"
      },
      "source": [
        "#Mount the drive *(optional)*"
      ]
    },
    {
      "cell_type": "code",
      "metadata": {
        "id": "_na8tgpYtkBR"
      },
      "source": [
        "from google.colab import drive\n",
        "\n",
        "drive.mount('/content/gdrive')"
      ],
      "execution_count": null,
      "outputs": []
    },
    {
      "cell_type": "markdown",
      "metadata": {
        "id": "osaE-FMr28-E"
      },
      "source": [
        "\n",
        "\n",
        "---\n",
        "\n",
        "\n",
        "\n",
        "---\n",
        "\n"
      ]
    },
    {
      "cell_type": "markdown",
      "metadata": {
        "id": "Qnbz2_153ABp"
      },
      "source": [
        "#Now Make Dreams"
      ]
    },
    {
      "cell_type": "markdown",
      "metadata": {
        "id": "F1rJlgCeRfIF"
      },
      "source": [
        "#FOR ZOOM, ROTATION, TRANSLATION \n",
        "\n",
        "*It will dump the intermediate frames to:*\n",
        "\n",
        "*data / out-videos / VGG16_EXPERIMENTAL_IMAGENET / and it will save the final video to data / out-videos.*\n",
        "\n",
        "*default 100 itrations*, *if --use_noise true it will use noise as input*"
      ]
    },
    {
      "cell_type": "code",
      "metadata": {
        "id": "lrBKFJkkXb_G"
      },
      "source": [
        "!python deepdream2.py --img_width 1920 --video_length 100 --num_gradient_ascent_iterations 5 --pyramid_size 3 --pyramid_ratio 1.2 --blend 0.6  --is_video true --use_noise true #-- input figures.jpg"
      ],
      "execution_count": null,
      "outputs": []
    },
    {
      "cell_type": "markdown",
      "metadata": {
        "id": "owVvkgL63ceB"
      },
      "source": [
        "\n",
        "\n",
        "---\n",
        "\n",
        "\n",
        "\n",
        "---\n",
        "\n"
      ]
    },
    {
      "cell_type": "markdown",
      "metadata": {
        "id": "w-zDnRWrRofP"
      },
      "source": [
        "#FOR IMAGES\n",
        "\n",
        "*This will use the default settings but you'll immediately get a meaningful result saved to:*\n",
        "\n",
        "*data / out-images / VGG16_EXPERIMENTAL_IMAGENET /*"
      ]
    },
    {
      "cell_type": "code",
      "metadata": {
        "id": "R8jYnNkDRqO6"
      },
      "source": [
        "!python deepdream0.py --input nyc.jpg --img_width 1920 --num_gradient_ascent_iterations 10 --pyramid_size 4 --pyramid_ratio 1.2 --smoothing_coefficient 0.5"
      ],
      "execution_count": null,
      "outputs": []
    },
    {
      "cell_type": "markdown",
      "metadata": {
        "id": "aL5hdQDP3eUG"
      },
      "source": [
        "\n",
        "\n",
        "---\n",
        "\n",
        "\n",
        "\n",
        "---\n",
        "\n"
      ]
    },
    {
      "cell_type": "markdown",
      "metadata": {
        "id": "KF7eICF-RdAw"
      },
      "source": [
        "#FOR VIDEO\n",
        "\n",
        "*It will dump the intermediate frames to data / out-videos / tmp_out and it will save the final video to data / out-videos.*\n",
        "\n",
        "*Change the name of the python file you want to execute.*\n",
        "\n",
        "*Like !python deepdream(0, 1, 2, 3,4).py*\n",
        "\n",
        "\n"
      ]
    },
    {
      "cell_type": "code",
      "metadata": {
        "id": "TG4Q6qTolo-m"
      },
      "source": [
        "!python deepdream3.py --input snail.mp4 --img_width 1920 --num_gradient_ascent_iterations 3 --smoothing_coefficient 0.7 --pyramid_size 4 --pyramid_ratio 1.2 --blend 0.85 #--use_noise True\n"
      ],
      "execution_count": null,
      "outputs": []
    },
    {
      "cell_type": "code",
      "metadata": {
        "id": "Fn2f8mEAKFfO"
      },
      "source": [
        "from google.colab import files\n",
        "files.download(\"/content/deepdream-pytorch/data/out-videos/vid.mp4\")"
      ],
      "execution_count": null,
      "outputs": []
    },
    {
      "cell_type": "markdown",
      "metadata": {
        "id": "M23ATtbc6AMs"
      },
      "source": [
        "*Run this for help and arguments*"
      ]
    },
    {
      "cell_type": "code",
      "metadata": {
        "id": "9t47m5l24dD9"
      },
      "source": [
        "!python deepdream3.py -h"
      ],
      "execution_count": null,
      "outputs": []
    },
    {
      "cell_type": "markdown",
      "metadata": {
        "id": "HEs2FFG39krz"
      },
      "source": [
        "\n",
        "\n",
        "----\n",
        "\n"
      ]
    },
    {
      "cell_type": "markdown",
      "metadata": {
        "id": "kkJ1achb0sjL"
      },
      "source": [
        "!python deepdream0.py =  VGG16\n",
        "For VGG16_IMAGENET (PLACES_365 NOT SUPPORTED FOR THIS MOEDL)\n",
        "    # LAYERS AVAILABLE ['relu3_3', 'relu4_1', 'relu4_2', 'relu4_3', 'relu5_1', 'relu5_2', 'relu5_3', 'mp5']\n",
        "\n",
        "!python deepdream1.py = VGG16_EXPERIMENTAL\n",
        "For VGG16_EXPERIMENTAL_IMAGENET (PLACES_365 NOT SUPPORTED FOR THIS MOEDL)\n",
        "    # LAYERS AVAILABLE ['relu3_3', 'relu4_1', 'relu4_2', 'relu4_3', 'relu5_1', 'relu5_2', 'relu5_3', 'mp5']\n",
        "\n",
        "!python deepdream2.py = GOOGLENET \n",
        "FOR GOOGLENET_IMAGENET (PLACES_365 NOT SUPPORTED FOR THIS MOEDL)\n",
        "    # LAYERS AVAILABLE: ['inception3b', 'inception4c', 'inception4d', 'inception4e', 'inception4a' , 'inception4b']\n",
        "\n",
        "!python deepdream3.py = RESNET50\n",
        "FOR RESNET50_PLACES_365/IMAGENET \n",
        "    # LAYERS AVAILABLE: ['layer1', 'layer2', 'layer3', 'layer4'] \n",
        "\n",
        "!python deepdream4.py = ALEXNET \n",
        "FOR ALEXNET_PLACES_365/IMAGENET\n",
        "    # LAYERS AVAILABLE: ['relu1', 'relu2', 'relu3', 'relu4', 'relu5']\n"
      ]
    },
    {
      "cell_type": "markdown",
      "metadata": {
        "id": "36PYLUw_9XAP"
      },
      "source": [
        "\n",
        "\n",
        "---\n",
        "\n"
      ]
    },
    {
      "cell_type": "markdown",
      "metadata": {
        "id": "BBPXYk556IGv"
      },
      "source": [
        "#zip and download the *tmp_out* folder in *gdrive/pytorch-deepdream/*"
      ]
    },
    {
      "cell_type": "code",
      "metadata": {
        "id": "_8LCdRCCmck7"
      },
      "source": [
        "!zip -r /content/pytorch-deepdream/data/out-videos/tmp_out.zip /content/gdrive/pytorch-deepdream/data/out-videos/tmp_out"
      ],
      "execution_count": null,
      "outputs": []
    },
    {
      "cell_type": "code",
      "metadata": {
        "id": "XE8aYtGPo7sN"
      },
      "source": [
        "from google.colab import files\n",
        "files.download(\"/content/pytorch-deepdream/data/out-videos/tmp_out.zip\")"
      ],
      "execution_count": null,
      "outputs": []
    },
    {
      "cell_type": "markdown",
      "metadata": {
        "id": "I65MBapW93bI"
      },
      "source": [
        "\n",
        "\n",
        "\n",
        "\n",
        "---\n",
        "\n"
      ]
    }
  ]
}
