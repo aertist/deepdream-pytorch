{
  "nbformat": 4,
  "nbformat_minor": 0,
  "metadata": {
    "colab": {
      "name": "DeepDreamExp.ipynb",
      "provenance": [],
      "authorship_tag": "ABX9TyO6+0RSOBbv5dKfdOc1REcA",
      "include_colab_link": true
    },
    "kernelspec": {
      "name": "python3",
      "display_name": "Python 3"
    },
    "accelerator": "GPU"
  },
  "cells": [
    {
      "cell_type": "markdown",
      "metadata": {
        "id": "view-in-github",
        "colab_type": "text"
      },
      "source": [
        "<a href=\"https://colab.research.google.com/github/aertist/deepdream-pytorch/blob/main/DeepDreamExp.ipynb\" target=\"_parent\"><img src=\"https://colab.research.google.com/assets/colab-badge.svg\" alt=\"Open In Colab\"/></a>"
      ]
    },
    {
      "cell_type": "code",
      "metadata": {
        "id": "LJdDlzj4y0eP"
      },
      "source": [
        "!git clone https://github.com/ProGamerGov/neural-dream.git"
      ],
      "execution_count": null,
      "outputs": []
    },
    {
      "cell_type": "code",
      "metadata": {
        "id": "CTgHiu4rz3iJ"
      },
      "source": [
        "cd /content/neural-dream"
      ],
      "execution_count": null,
      "outputs": []
    },
    {
      "cell_type": "code",
      "metadata": {
        "id": "7obcFE1wy-TH"
      },
      "source": [
        "!python models/download_models.py -models all"
      ],
      "execution_count": null,
      "outputs": []
    },
    {
      "cell_type": "code",
      "metadata": {
        "colab": {
          "base_uri": "https://localhost:8080/"
        },
        "id": "ShgLk0zC2OLr",
        "outputId": "6c981f77-b45a-451f-836a-12a10a504fe3"
      },
      "source": [
        "!python neural_dream.py -dream_layers mixed5a_3x3_pre_relu_conv -channels 300,200,400,500,600 -model_file /content/neural-dream/models/inception5h.pth -content_image input/hut.png -output_image output/hut.png #-zoom 5 -create_gif -frame_duration 100"
      ],
      "execution_count": 68,
      "outputs": [
        {
          "output_type": "stream",
          "text": [
            "Inception Architecture Detected\n",
            "Successfully loaded /content/neural-dream/models/inception5h.pth\n",
            "Setting up dream layer 1: mixed5a_3x3_pre_relu_conv\n",
            "Running optimization with L-BFGS\n",
            "\n",
            "Selected layer channels:\n",
            "  mixed5a_3x3_pre_relu_conv:  [300, 200, 400, 500, 600]\n",
            "\n",
            "Performing 1 octaves with the following image sizes:\n",
            "  Octave 1 image size: 1080x1920\n",
            "\n",
            "Iteration 1 / 5\n",
            "  DeepDream 1 loss: 1751736192.0\n",
            "  Total loss: 121358158304.0\n",
            "Iteration 2 / 5\n",
            "  DeepDream 1 loss: 2018723328.0\n",
            "  Total loss: 203676406656.0\n",
            "Iteration 3 / 5\n",
            "  DeepDream 1 loss: 1938360576.0\n",
            "  Total loss: 199307561472.0\n",
            "Iteration 4 / 5\n",
            "  DeepDream 1 loss: 2494559232.0\n",
            "  Total loss: 233550387200.0\n",
            "Iteration 5 / 5\n",
            "  DeepDream 1 loss: 2736359168.0\n",
            "  Total loss: 261285824768.0\n"
          ],
          "name": "stdout"
        }
      ]
    },
    {
      "cell_type": "code",
      "metadata": {
        "id": "WQi2QDJ14Sy9"
      },
      "source": [
        "!python neural_dream.py -print_layers -model_file /content/neural-dream/models/inception5h.pth"
      ],
      "execution_count": null,
      "outputs": []
    }
  ]
}