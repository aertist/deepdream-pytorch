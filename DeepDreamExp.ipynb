{
  "nbformat": 4,
  "nbformat_minor": 0,
  "metadata": {
    "colab": {
      "name": "DeepDreamExp.ipynb",
      "provenance": [],
      "include_colab_link": true
    },
    "kernelspec": {
      "name": "python3",
      "display_name": "Python 3"
    },
    "accelerator": "GPU"
  },
  "cells": [
    {
      "cell_type": "markdown",
      "metadata": {
        "id": "view-in-github",
        "colab_type": "text"
      },
      "source": [
        "<a href=\"https://colab.research.google.com/github/aertist/deepdream-pytorch/blob/main/DeepDreamExp.ipynb\" target=\"_parent\"><img src=\"https://colab.research.google.com/assets/colab-badge.svg\" alt=\"Open In Colab\"/></a>"
      ]
    },
    {
      "cell_type": "code",
      "metadata": {
        "id": "LJdDlzj4y0eP"
      },
      "source": [
        "!git clone https://github.com/ProGamerGov/neural-dream.git -q"
      ],
      "execution_count": null,
      "outputs": []
    },
    {
      "cell_type": "code",
      "metadata": {
        "id": "CTgHiu4rz3iJ"
      },
      "source": [
        "cd /content/neural-dream"
      ],
      "execution_count": null,
      "outputs": []
    },
    {
      "cell_type": "code",
      "metadata": {
        "id": "7obcFE1wy-TH"
      },
      "source": [
        "!python models/download_models.py -models all "
      ],
      "execution_count": null,
      "outputs": []
    },
    {
      "cell_type": "code",
      "metadata": {
        "id": "ShgLk0zC2OLr"
      },
      "source": [
        "!python neural_dream.py \\\r\n",
        "        -content_image /content/neural-dream/examples/inputs/trip.jpg \\\r\n",
        "        -output_image /content/neural-dream/examples/outputs/tripout2.jpg \\\r\n",
        "        -model_file /content/neural-dream/models/googlenet_places365.pth \\\r\n",
        "        -model_type auto \\\r\n",
        "        -image_size 1920 \\\r\n",
        "        -num_iterations 5 \\\r\n",
        "        -dream_layers inception_5b_relu_5x5_reduce \\\r\n",
        "        -channels 342,254,650,589,600 \\\r\n",
        "        -jitter 32 \\\r\n",
        "        -lap_scale 4 \\\r\n",
        "        -learning_rate 1.5 \\\r\n",
        "        -num_octaves 3 \\\r\n",
        "        -octave_scale 0.5 \\\r\n",
        "        -octave_iter 25 \\\r\n",
        "        -original_colors 0 \\\r\n",
        "        -pooling avg \\\r\n",
        "        #-zoom 5 \\\r\n",
        "        #-create_gif \r\n",
        "        #-zoom_mode percent \\\r\n",
        "        #-backend cudnn \\\r\n",
        "        #-cudnn_autotune \r\n",
        "        #-print_layers False \r\n",
        "        #-frame_duration 100 \\"
      ],
      "execution_count": null,
      "outputs": []
    },
    {
      "cell_type": "code",
      "metadata": {
        "id": "WQi2QDJ14Sy9"
      },
      "source": [
        "!python neural_dream.py -print_layers -model_file /content/neural-dream/models/googlenet_places365.pth"
      ],
      "execution_count": null,
      "outputs": []
    },
    {
      "cell_type": "markdown",
      "metadata": {
        "id": "43mCrnL6uw_l"
      },
      "source": [
        "-octave_mode normal \\   #choices=['normal', 'advanced', 'manual_max', 'manual_min', 'manual'], default='normal')\r\n",
        "\r\n",
        "-channel_mode all \\     #choices=['all', 'strong', 'avg', 'weak', 'ignore']\r\n",
        "\r\n",
        "-channel_capture once   #choices=['once', 'iter']"
      ]
    }
  ]
}