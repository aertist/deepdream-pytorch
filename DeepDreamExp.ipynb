{
  "nbformat": 4,
  "nbformat_minor": 0,
  "metadata": {
    "colab": {
      "name": "DeepDreamExp.ipynb",
      "provenance": [],
      "include_colab_link": true
    },
    "kernelspec": {
      "name": "python3",
      "display_name": "Python 3"
    },
    "accelerator": "GPU"
  },
  "cells": [
    {
      "cell_type": "markdown",
      "metadata": {
        "id": "view-in-github",
        "colab_type": "text"
      },
      "source": [
        "<a href=\"https://colab.research.google.com/github/aertist/deepdream-pytorch/blob/main/DeepDreamExp.ipynb\" target=\"_parent\"><img src=\"https://colab.research.google.com/assets/colab-badge.svg\" alt=\"Open In Colab\"/></a>"
      ]
    },
    {
      "cell_type": "code",
      "metadata": {
        "id": "LJdDlzj4y0eP"
      },
      "source": [
        "!git clone https://github.com/ProGamerGov/neural-dream.git -q"
      ],
      "execution_count": 1,
      "outputs": []
    },
    {
      "cell_type": "code",
      "metadata": {
        "id": "CTgHiu4rz3iJ",
        "outputId": "591cd21c-0ec2-40bc-e65e-7f89f8a4cc65",
        "colab": {
          "base_uri": "https://localhost:8080/"
        }
      },
      "source": [
        "cd /content/neural-dream"
      ],
      "execution_count": 2,
      "outputs": [
        {
          "output_type": "stream",
          "text": [
            "/content/neural-dream\n"
          ],
          "name": "stdout"
        }
      ]
    },
    {
      "cell_type": "code",
      "metadata": {
        "id": "7obcFE1wy-TH"
      },
      "source": [
        "!python models/download_models.py -models all "
      ],
      "execution_count": null,
      "outputs": []
    },
    {
      "cell_type": "code",
      "metadata": {
        "id": "ShgLk0zC2OLr",
        "outputId": "13eb3db1-49c9-4b46-baf6-6b587bb84e38",
        "colab": {
          "base_uri": "https://localhost:8080/"
        }
      },
      "source": [
        "!python neural_dream.py \\\r\n",
        "        -content_image /content/neural-dream/examples/inputs/200.png \\\r\n",
        "        -output_image /content/neural-dream/examples/outputs/nyc.png \\\r\n",
        "        -model_file /content/neural-dream/models/inception5h.pth \\\r\n",
        "        -model_type auto \\\r\n",
        "        -image_size 1920 \\\r\n",
        "        -num_iterations 5 \\\r\n",
        "        -dream_layers mixed4d \\\r\n",
        "        -channels 342,254,650,589,600 \\\r\n",
        "        -tile_size 1080 \\\r\n",
        "        -jitter 32 \\\r\n",
        "        -lap_scale 3 \\\r\n",
        "        -learning_rate 1.5 \\\r\n",
        "        -num_octaves 3 \\\r\n",
        "        -octave_scale 0.5 \\\r\n",
        "        -octave_iter 25 \\\r\n",
        "        -save_iter 1 \\\r\n",
        "        -original_colors 0 \\\r\n",
        "        -pooling avg \\\r\n",
        "        -backend cudnn \\\r\n",
        "        -cudnn_autotune \\\r\n",
        "        #-print_layers \\\r\n",
        "        #-zoom 5 \\\r\n",
        "        #-create_gif \r\n",
        "        #-zoom_mode percent \\\r\n",
        "        #-frame_duration 100 \\"
      ],
      "execution_count": null,
      "outputs": [
        {
          "output_type": "stream",
          "text": [
            "Inception Architecture Detected\n",
            "Successfully loaded /content/neural-dream/models/inception5h.pth\n",
            "Setting up dream layer 1: mixed4d\n",
            "Running optimization with ADAM\n",
            "\n",
            "Selected layer channels:\n",
            "  mixed4d:  [342, 254, 650, 589, 600]\n",
            "\n",
            "Created 3 tiles\n",
            "Tile pattern: 1x3\n",
            "\n",
            "Performing 3 octaves with the following image sizes:\n",
            "  Octave 1 image size: 270x270\n",
            "  Octave 2 image size: 540x540\n",
            "  Octave 3 image size: 1080x1080\n",
            "\n",
            "Iteration 1 / 5\n",
            "  DeepDream 1 loss: 6304875936.0\n",
            "  Total loss: 177293870112.0\n"
          ],
          "name": "stdout"
        }
      ]
    },
    {
      "cell_type": "code",
      "metadata": {
        "id": "WQi2QDJ14Sy9"
      },
      "source": [
        "!python neural_dream.py -print_layers -model_file /content/neural-dream/models/inception5h.pth"
      ],
      "execution_count": null,
      "outputs": []
    },
    {
      "cell_type": "markdown",
      "metadata": {
        "id": "43mCrnL6uw_l"
      },
      "source": [
        "-octave_mode normal \\   #choices=['normal', 'advanced', 'manual_max', 'manual_min', 'manual'], default='normal')\r\n",
        "\r\n",
        "-channel_mode all \\     #choices=['all', 'strong', 'avg', 'weak', 'ignore']\r\n",
        "\r\n",
        "-channel_capture once   #choices=['once', 'iter']"
      ]
    }
  ]
}